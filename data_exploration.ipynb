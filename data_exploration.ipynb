{
 "cells": [
  {
   "cell_type": "code",
   "execution_count": 43,
   "metadata": {},
   "outputs": [
    {
     "data": {
      "text/html": [
       "<div>\n",
       "<style scoped>\n",
       "    .dataframe tbody tr th:only-of-type {\n",
       "        vertical-align: middle;\n",
       "    }\n",
       "\n",
       "    .dataframe tbody tr th {\n",
       "        vertical-align: top;\n",
       "    }\n",
       "\n",
       "    .dataframe thead th {\n",
       "        text-align: right;\n",
       "    }\n",
       "</style>\n",
       "<table border=\"1\" class=\"dataframe\">\n",
       "  <thead>\n",
       "    <tr style=\"text-align: right;\">\n",
       "      <th></th>\n",
       "      <th>subject_id</th>\n",
       "      <th>hadm_id</th>\n",
       "      <th>stay_id</th>\n",
       "      <th>first_careunit</th>\n",
       "      <th>last_careunit</th>\n",
       "      <th>intime</th>\n",
       "      <th>outtime</th>\n",
       "      <th>los</th>\n",
       "      <th>admittime</th>\n",
       "      <th>dischtime</th>\n",
       "      <th>...</th>\n",
       "      <th>creatinine</th>\n",
       "      <th>lactate</th>\n",
       "      <th>lactate_cat</th>\n",
       "      <th>bicarbonate</th>\n",
       "      <th>hemoglobin</th>\n",
       "      <th>sodium</th>\n",
       "      <th>potassium</th>\n",
       "      <th>glucose</th>\n",
       "      <th>platelet</th>\n",
       "      <th>log_treatment</th>\n",
       "    </tr>\n",
       "  </thead>\n",
       "  <tbody>\n",
       "    <tr>\n",
       "      <th>0</th>\n",
       "      <td>17195991</td>\n",
       "      <td>23542772</td>\n",
       "      <td>38319097</td>\n",
       "      <td>Surgical Intensive Care Unit (SICU)</td>\n",
       "      <td>Surgical Intensive Care Unit (SICU)</td>\n",
       "      <td>2110-01-12T00:54:00Z</td>\n",
       "      <td>2110-01-14T22:07:39Z</td>\n",
       "      <td>2.884479</td>\n",
       "      <td>2110-01-11T22:47:00Z</td>\n",
       "      <td>2110-01-18T10:25:00Z</td>\n",
       "      <td>...</td>\n",
       "      <td>0.7</td>\n",
       "      <td>NaN</td>\n",
       "      <td>missing</td>\n",
       "      <td>23.0</td>\n",
       "      <td>11.6</td>\n",
       "      <td>145.0</td>\n",
       "      <td>2.8</td>\n",
       "      <td>116.0</td>\n",
       "      <td>247.0</td>\n",
       "      <td>3.108574</td>\n",
       "    </tr>\n",
       "    <tr>\n",
       "      <th>1</th>\n",
       "      <td>12770182</td>\n",
       "      <td>20446666</td>\n",
       "      <td>34901199</td>\n",
       "      <td>Medical Intensive Care Unit (MICU)</td>\n",
       "      <td>Medical Intensive Care Unit (MICU)</td>\n",
       "      <td>2110-01-18T17:47:47Z</td>\n",
       "      <td>2110-01-20T22:25:09Z</td>\n",
       "      <td>2.192616</td>\n",
       "      <td>2110-01-18T17:46:00Z</td>\n",
       "      <td>2110-01-21T16:30:00Z</td>\n",
       "      <td>...</td>\n",
       "      <td>0.8</td>\n",
       "      <td>NaN</td>\n",
       "      <td>missing</td>\n",
       "      <td>28.0</td>\n",
       "      <td>14.8</td>\n",
       "      <td>142.0</td>\n",
       "      <td>4.2</td>\n",
       "      <td>114.0</td>\n",
       "      <td>300.0</td>\n",
       "      <td>2.757537</td>\n",
       "    </tr>\n",
       "    <tr>\n",
       "      <th>2</th>\n",
       "      <td>15173979</td>\n",
       "      <td>28605254</td>\n",
       "      <td>33198006</td>\n",
       "      <td>Trauma SICU (TSICU)</td>\n",
       "      <td>Trauma SICU (TSICU)</td>\n",
       "      <td>2110-02-02T20:55:57Z</td>\n",
       "      <td>2110-02-04T16:54:51Z</td>\n",
       "      <td>1.832569</td>\n",
       "      <td>2110-02-02T18:56:00Z</td>\n",
       "      <td>2110-02-08T18:30:00Z</td>\n",
       "      <td>...</td>\n",
       "      <td>1.8</td>\n",
       "      <td>1.0</td>\n",
       "      <td>&lt;2</td>\n",
       "      <td>23.0</td>\n",
       "      <td>15.0</td>\n",
       "      <td>137.0</td>\n",
       "      <td>4.9</td>\n",
       "      <td>115.0</td>\n",
       "      <td>171.0</td>\n",
       "      <td>3.263041</td>\n",
       "    </tr>\n",
       "    <tr>\n",
       "      <th>3</th>\n",
       "      <td>18425495</td>\n",
       "      <td>25117070</td>\n",
       "      <td>35090086</td>\n",
       "      <td>Medical Intensive Care Unit (MICU)</td>\n",
       "      <td>Medical Intensive Care Unit (MICU)</td>\n",
       "      <td>2110-02-03T18:04:00Z</td>\n",
       "      <td>2110-02-07T00:30:01Z</td>\n",
       "      <td>3.268067</td>\n",
       "      <td>2110-02-03T16:46:00Z</td>\n",
       "      <td>2110-02-09T14:08:00Z</td>\n",
       "      <td>...</td>\n",
       "      <td>1.2</td>\n",
       "      <td>NaN</td>\n",
       "      <td>missing</td>\n",
       "      <td>17.0</td>\n",
       "      <td>10.0</td>\n",
       "      <td>143.0</td>\n",
       "      <td>3.4</td>\n",
       "      <td>103.0</td>\n",
       "      <td>116.0</td>\n",
       "      <td>2.607134</td>\n",
       "    </tr>\n",
       "    <tr>\n",
       "      <th>4</th>\n",
       "      <td>10582595</td>\n",
       "      <td>20690213</td>\n",
       "      <td>33235984</td>\n",
       "      <td>Surgical Intensive Care Unit (SICU)</td>\n",
       "      <td>Trauma SICU (TSICU)</td>\n",
       "      <td>2110-02-09T22:11:00Z</td>\n",
       "      <td>2110-02-13T17:33:51Z</td>\n",
       "      <td>3.807535</td>\n",
       "      <td>2110-02-09T20:41:00Z</td>\n",
       "      <td>2110-02-17T15:40:00Z</td>\n",
       "      <td>...</td>\n",
       "      <td>0.7</td>\n",
       "      <td>NaN</td>\n",
       "      <td>missing</td>\n",
       "      <td>28.0</td>\n",
       "      <td>NaN</td>\n",
       "      <td>134.0</td>\n",
       "      <td>4.1</td>\n",
       "      <td>135.0</td>\n",
       "      <td>NaN</td>\n",
       "      <td>2.919146</td>\n",
       "    </tr>\n",
       "  </tbody>\n",
       "</table>\n",
       "<p>5 rows × 56 columns</p>\n",
       "</div>"
      ],
      "text/plain": [
       "   subject_id   hadm_id   stay_id                       first_careunit  \\\n",
       "0    17195991  23542772  38319097  Surgical Intensive Care Unit (SICU)   \n",
       "1    12770182  20446666  34901199   Medical Intensive Care Unit (MICU)   \n",
       "2    15173979  28605254  33198006                  Trauma SICU (TSICU)   \n",
       "3    18425495  25117070  35090086   Medical Intensive Care Unit (MICU)   \n",
       "4    10582595  20690213  33235984  Surgical Intensive Care Unit (SICU)   \n",
       "\n",
       "                         last_careunit                intime  \\\n",
       "0  Surgical Intensive Care Unit (SICU)  2110-01-12T00:54:00Z   \n",
       "1   Medical Intensive Care Unit (MICU)  2110-01-18T17:47:47Z   \n",
       "2                  Trauma SICU (TSICU)  2110-02-02T20:55:57Z   \n",
       "3   Medical Intensive Care Unit (MICU)  2110-02-03T18:04:00Z   \n",
       "4                  Trauma SICU (TSICU)  2110-02-09T22:11:00Z   \n",
       "\n",
       "                outtime       los             admittime             dischtime  \\\n",
       "0  2110-01-14T22:07:39Z  2.884479  2110-01-11T22:47:00Z  2110-01-18T10:25:00Z   \n",
       "1  2110-01-20T22:25:09Z  2.192616  2110-01-18T17:46:00Z  2110-01-21T16:30:00Z   \n",
       "2  2110-02-04T16:54:51Z  1.832569  2110-02-02T18:56:00Z  2110-02-08T18:30:00Z   \n",
       "3  2110-02-07T00:30:01Z  3.268067  2110-02-03T16:46:00Z  2110-02-09T14:08:00Z   \n",
       "4  2110-02-13T17:33:51Z  3.807535  2110-02-09T20:41:00Z  2110-02-17T15:40:00Z   \n",
       "\n",
       "   ... creatinine lactate lactate_cat bicarbonate hemoglobin sodium potassium  \\\n",
       "0  ...        0.7     NaN     missing        23.0       11.6  145.0       2.8   \n",
       "1  ...        0.8     NaN     missing        28.0       14.8  142.0       4.2   \n",
       "2  ...        1.8     1.0          <2        23.0       15.0  137.0       4.9   \n",
       "3  ...        1.2     NaN     missing        17.0       10.0  143.0       3.4   \n",
       "4  ...        0.7     NaN     missing        28.0        NaN  134.0       4.1   \n",
       "\n",
       "  glucose platelet log_treatment  \n",
       "0   116.0    247.0      3.108574  \n",
       "1   114.0    300.0      2.757537  \n",
       "2   115.0    171.0      3.263041  \n",
       "3   103.0    116.0      2.607134  \n",
       "4   135.0      NaN      2.919146  \n",
       "\n",
       "[5 rows x 56 columns]"
      ]
     },
     "execution_count": 43,
     "metadata": {},
     "output_type": "execute_result"
    }
   ],
   "source": [
    "import pandas as pd\n",
    "\n",
    "df_ = pd.read_csv(\"datafiles/mimic-iv-cohort.csv\")\n",
    "df_.head()"
   ]
  },
  {
   "cell_type": "code",
   "execution_count": 11,
   "metadata": {},
   "outputs": [
    {
     "data": {
      "text/plain": [
       "Index(['subject_id', 'hadm_id', 'stay_id', 'first_careunit', 'last_careunit',\n",
       "       'intime', 'outtime', 'los', 'admittime', 'dischtime', 'deathtime',\n",
       "       'admission_type', 'admission_location', 'discharge_location',\n",
       "       'insurance', 'language', 'marital_status', 'ethnicity', 'edregtime',\n",
       "       'edouttime', 'hospital_expire_flag', 'total.stays', 'age', 'gender',\n",
       "       'ed_icu.time.diff', 'score', 'chf', 'esrd', 'chf.esrd', 'sepsis.only',\n",
       "       'subgroup', 'day1', 'patientweight', 'treatment', 'vaso', 'norep',\n",
       "       'pressor', 'ventilation_status', 'sofa_start', 'sofa_end', 'sofa_delta',\n",
       "       'sofa_24hours', 'DNI', 'temperature', 'heart_rate', 'wbc', 'creatinine',\n",
       "       'lactate', 'lactate_cat', 'bicarbonate', 'hemoglobin', 'sodium',\n",
       "       'potassium', 'glucose', 'platelet', 'log_treatment'],\n",
       "      dtype='object')"
      ]
     },
     "execution_count": 11,
     "metadata": {},
     "output_type": "execute_result"
    }
   ],
   "source": [
    "df_.columns"
   ]
  },
  {
   "cell_type": "code",
   "execution_count": 44,
   "metadata": {},
   "outputs": [
    {
     "name": "stdout",
     "output_type": "stream",
     "text": [
      "<class 'pandas.core.frame.DataFrame'>\n",
      "RangeIndex: 14798 entries, 0 to 14797\n",
      "Data columns (total 56 columns):\n",
      " #   Column                Non-Null Count  Dtype         \n",
      "---  ------                --------------  -----         \n",
      " 0   subject_id            14798 non-null  int64         \n",
      " 1   hadm_id               14798 non-null  int64         \n",
      " 2   stay_id               14798 non-null  int64         \n",
      " 3   first_careunit        14798 non-null  object        \n",
      " 4   last_careunit         14798 non-null  object        \n",
      " 5   intime                14798 non-null  datetime64[ns]\n",
      " 6   outtime               14798 non-null  datetime64[ns]\n",
      " 7   los                   14798 non-null  float64       \n",
      " 8   admittime             14798 non-null  datetime64[ns]\n",
      " 9   dischtime             14798 non-null  datetime64[ns]\n",
      " 10  deathtime             2520 non-null   datetime64[ns]\n",
      " 11  admission_type        14798 non-null  object        \n",
      " 12  admission_location    14798 non-null  object        \n",
      " 13  discharge_location    14769 non-null  object        \n",
      " 14  insurance             14798 non-null  object        \n",
      " 15  language              14798 non-null  object        \n",
      " 16  marital_status        13400 non-null  object        \n",
      " 17  ethnicity             14798 non-null  object        \n",
      " 18  edregtime             14798 non-null  datetime64[ns]\n",
      " 19  edouttime             14798 non-null  datetime64[ns]\n",
      " 20  hospital_expire_flag  14798 non-null  int64         \n",
      " 21  total.stays           14798 non-null  int64         \n",
      " 22  age                   14798 non-null  int64         \n",
      " 23  gender                14798 non-null  object        \n",
      " 24  ed_icu.time.diff      14798 non-null  float64       \n",
      " 25  score                 14786 non-null  float64       \n",
      " 26  chf                   14798 non-null  int64         \n",
      " 27  esrd                  14798 non-null  int64         \n",
      " 28  chf.esrd              14798 non-null  int64         \n",
      " 29  sepsis.only           14798 non-null  int64         \n",
      " 30  subgroup              14798 non-null  object        \n",
      " 31  day1                  14798 non-null  float64       \n",
      " 32  patientweight         14798 non-null  float64       \n",
      " 33  treatment             14798 non-null  float64       \n",
      " 34  vaso                  14798 non-null  int64         \n",
      " 35  norep                 14798 non-null  int64         \n",
      " 36  pressor               14798 non-null  object        \n",
      " 37  ventilation_status    14798 non-null  object        \n",
      " 38  sofa_start            14630 non-null  float64       \n",
      " 39  sofa_end              14516 non-null  float64       \n",
      " 40  sofa_delta            14516 non-null  float64       \n",
      " 41  sofa_24hours          14798 non-null  int64         \n",
      " 42  DNI                   14798 non-null  int64         \n",
      " 43  temperature           14490 non-null  float64       \n",
      " 44  heart_rate            14782 non-null  float64       \n",
      " 45  wbc                   12861 non-null  float64       \n",
      " 46  creatinine            13436 non-null  float64       \n",
      " 47  lactate               7202 non-null   float64       \n",
      " 48  lactate_cat           14798 non-null  object        \n",
      " 49  bicarbonate           13293 non-null  float64       \n",
      " 50  hemoglobin            12874 non-null  float64       \n",
      " 51  sodium                13386 non-null  float64       \n",
      " 52  potassium             13396 non-null  float64       \n",
      " 53  glucose               13143 non-null  float64       \n",
      " 54  platelet              12918 non-null  float64       \n",
      " 55  log_treatment         14798 non-null  float64       \n",
      "dtypes: datetime64[ns](7), float64(21), int64(14), object(14)\n",
      "memory usage: 6.3+ MB\n"
     ]
    }
   ],
   "source": [
    "time_converter = lambda ts: pd.to_datetime(ts.str.strip(), format=\"%Y-%m-%dT%H:%M:%SZ\")\n",
    "time_cols = [\"outtime\", \"intime\", \"admittime\", \"dischtime\", \"deathtime\", \"edregtime\", \"edouttime\"]\n",
    "for col in time_cols:\n",
    "    df_[col] = time_converter(df_[col]) \n",
    "\n",
    "\n",
    "df_.info()"
   ]
  },
  {
   "cell_type": "markdown",
   "metadata": {},
   "source": [
    "# Check the messy columns"
   ]
  },
  {
   "cell_type": "code",
   "execution_count": 49,
   "metadata": {},
   "outputs": [
    {
     "data": {
      "text/plain": [
       "first_careunit         True\n",
       "last_careunit          True\n",
       "admission_type         True\n",
       "admission_location     True\n",
       "discharge_location    False\n",
       "insurance              True\n",
       "language               True\n",
       "marital_status        False\n",
       "ethnicity              True\n",
       "gender                 True\n",
       "subgroup               True\n",
       "pressor                True\n",
       "ventilation_status     True\n",
       "lactate_cat            True\n",
       "dtype: bool"
      ]
     },
     "execution_count": 49,
     "metadata": {},
     "output_type": "execute_result"
    }
   ],
   "source": [
    "\n",
    "import numpy as np\n",
    "analysis_df_ = df_.select_dtypes(include='object').applymap(lambda x: not(np.isreal(x)))\n",
    "analysis_df_.all(axis=0)"
   ]
  },
  {
   "cell_type": "markdown",
   "metadata": {},
   "source": [
    "# Define the covariates and dataframes"
   ]
  },
  {
   "cell_type": "code",
   "execution_count": 53,
   "metadata": {},
   "outputs": [],
   "source": [
    "outcomes = [\"hospital_expire_flag\"]  # does he die or not\n",
    "cohort = [\"chf\", \"esrd\"]  # dummies variable\n",
    "covariates = [\n",
    "    \"age\",\n",
    "    \"gender\",\n",
    "    \"temperature\",\n",
    "    \"heart_rate\",\n",
    "    \"wbc\",\n",
    "    \"creatinine\",\n",
    "    \"lactate_cat\",\n",
    "    \"bicarbonate\",\n",
    "    \"hemoglobin\",\n",
    "    \"sodium\",\n",
    "    \"potassium\",\n",
    "    \"glucose\",\n",
    "    \"platelet\",\n",
    "]\n",
    "\n",
    "\n",
    "df_y = df_.loc[:, outcomes]\n",
    "df_x = df_.loc[:, covariates]"
   ]
  },
  {
   "cell_type": "code",
   "execution_count": 168,
   "metadata": {},
   "outputs": [],
   "source": [
    "from IPython.display import Markdown\n",
    "\n",
    "\n",
    "def warning_(warning_list):\n",
    "    if warning_list:\n",
    "        flag = \", \".join(warning_list)\n",
    "        display(\n",
    "            Markdown(\n",
    "                'Frozen features <span style=\"color: #ff0000\">{}</span> are not in line with this test.'.format(\n",
    "                    flag\n",
    "                )\n",
    "            )\n",
    "        )\n",
    "    else:\n",
    "        display(Markdown('<span style=\"color: green\">All of the covariates passed the test</span>'))"
   ]
  },
  {
   "cell_type": "markdown",
   "metadata": {},
   "source": [
    "# First look of the data"
   ]
  },
  {
   "cell_type": "code",
   "execution_count": 115,
   "metadata": {},
   "outputs": [
    {
     "data": {
      "text/html": [
       "<th style=\"text-align:center\"><td style=\"vertical-align:top\"><h2>Input</h2><table style=\"display:inline\" border=\"1\" class=\"dataframe\">\n",
       "  <thead>\n",
       "    <tr style=\"text-align: right;\">\n",
       "      <th></th>\n",
       "      <th>age</th>\n",
       "      <th>gender</th>\n",
       "      <th>temperature</th>\n",
       "      <th>heart_rate</th>\n",
       "      <th>wbc</th>\n",
       "      <th>creatinine</th>\n",
       "      <th>lactate_cat</th>\n",
       "      <th>bicarbonate</th>\n",
       "      <th>hemoglobin</th>\n",
       "      <th>sodium</th>\n",
       "      <th>potassium</th>\n",
       "      <th>glucose</th>\n",
       "      <th>platelet</th>\n",
       "    </tr>\n",
       "  </thead>\n",
       "  <tbody>\n",
       "    <tr>\n",
       "      <th>14793</th>\n",
       "      <td>75</td>\n",
       "      <td>M</td>\n",
       "      <td>37.72</td>\n",
       "      <td>109.0</td>\n",
       "      <td>5.5</td>\n",
       "      <td>1.3</td>\n",
       "      <td>missing</td>\n",
       "      <td>24.0</td>\n",
       "      <td>9.1</td>\n",
       "      <td>136.0</td>\n",
       "      <td>5.9</td>\n",
       "      <td>190.0</td>\n",
       "      <td>142.0</td>\n",
       "    </tr>\n",
       "    <tr>\n",
       "      <th>14794</th>\n",
       "      <td>49</td>\n",
       "      <td>F</td>\n",
       "      <td>36.72</td>\n",
       "      <td>80.0</td>\n",
       "      <td>3.7</td>\n",
       "      <td>0.8</td>\n",
       "      <td>&lt;2</td>\n",
       "      <td>22.0</td>\n",
       "      <td>8.9</td>\n",
       "      <td>145.0</td>\n",
       "      <td>3.5</td>\n",
       "      <td>81.0</td>\n",
       "      <td>227.0</td>\n",
       "    </tr>\n",
       "    <tr>\n",
       "      <th>14795</th>\n",
       "      <td>86</td>\n",
       "      <td>M</td>\n",
       "      <td>36.44</td>\n",
       "      <td>160.0</td>\n",
       "      <td>7.3</td>\n",
       "      <td>1.8</td>\n",
       "      <td>&gt;4</td>\n",
       "      <td>26.0</td>\n",
       "      <td>8.7</td>\n",
       "      <td>138.0</td>\n",
       "      <td>4.4</td>\n",
       "      <td>165.0</td>\n",
       "      <td>90.0</td>\n",
       "    </tr>\n",
       "    <tr>\n",
       "      <th>14796</th>\n",
       "      <td>67</td>\n",
       "      <td>M</td>\n",
       "      <td>36.33</td>\n",
       "      <td>85.0</td>\n",
       "      <td>15.0</td>\n",
       "      <td>4.8</td>\n",
       "      <td>&lt;2</td>\n",
       "      <td>14.0</td>\n",
       "      <td>8.8</td>\n",
       "      <td>140.0</td>\n",
       "      <td>5.5</td>\n",
       "      <td>224.0</td>\n",
       "      <td>295.0</td>\n",
       "    </tr>\n",
       "    <tr>\n",
       "      <th>14797</th>\n",
       "      <td>66</td>\n",
       "      <td>F</td>\n",
       "      <td>36.78</td>\n",
       "      <td>85.0</td>\n",
       "      <td>20.4</td>\n",
       "      <td>1.2</td>\n",
       "      <td>&gt;4</td>\n",
       "      <td>17.0</td>\n",
       "      <td>10.0</td>\n",
       "      <td>142.0</td>\n",
       "      <td>3.4</td>\n",
       "      <td>207.0</td>\n",
       "      <td>446.0</td>\n",
       "    </tr>\n",
       "  </tbody>\n",
       "</table style=\"display:inline\"></td></th><th style=\"text-align:center\"><td style=\"vertical-align:top\"><h2>Outputs</h2><table style=\"display:inline\" border=\"1\" class=\"dataframe\">\n",
       "  <thead>\n",
       "    <tr style=\"text-align: right;\">\n",
       "      <th></th>\n",
       "      <th>hospital_expire_flag</th>\n",
       "    </tr>\n",
       "  </thead>\n",
       "  <tbody>\n",
       "    <tr>\n",
       "      <th>14793</th>\n",
       "      <td>0</td>\n",
       "    </tr>\n",
       "    <tr>\n",
       "      <th>14794</th>\n",
       "      <td>1</td>\n",
       "    </tr>\n",
       "    <tr>\n",
       "      <th>14795</th>\n",
       "      <td>1</td>\n",
       "    </tr>\n",
       "    <tr>\n",
       "      <th>14796</th>\n",
       "      <td>0</td>\n",
       "    </tr>\n",
       "    <tr>\n",
       "      <th>14797</th>\n",
       "      <td>0</td>\n",
       "    </tr>\n",
       "  </tbody>\n",
       "</table style=\"display:inline\"></td></th>"
      ]
     },
     "metadata": {},
     "output_type": "display_data"
    },
    {
     "data": {
      "text/plain": [
       "<AxesSubplot:title={'center':'Distribution of deaths (1)'}, ylabel='None'>"
      ]
     },
     "execution_count": 115,
     "metadata": {},
     "output_type": "execute_result"
    },
    {
     "data": {
      "image/png": "[encoded data removed]",
      "text/plain": [
       "<Figure size 432x288 with 1 Axes>"
      ]
     },
     "metadata": {},
     "output_type": "display_data"
    }
   ],
   "source": [
    "### ???????????????why you don't add the missing values fullfill here before this step?????????????????????????\n",
    "\n",
    "from IPython.display import display_html\n",
    "from itertools import chain, cycle\n",
    "\n",
    "\n",
    "def display_side_by_side(*args, titles=cycle([\"\"])):\n",
    "    html_str = \"\"\n",
    "    for df, title in zip(args, chain(titles, cycle([\"</br>\"]))):\n",
    "        html_str += '<th style=\"text-align:center\"><td style=\"vertical-align:top\">'\n",
    "        html_str += f\"<h2>{title}</h2>\"\n",
    "        html_str += df.to_html().replace(\"table\", 'table style=\"display:inline\"')\n",
    "        html_str += \"</td></th>\"\n",
    "    display_html(html_str, raw=True)\n",
    "\n",
    "\n",
    "display_side_by_side(df_x.tail(5), df_y.tail(5), titles=[\"Input\", \"Outputs\"])\n",
    "df_y.value_counts().plot.pie(title=\"Distribution of deaths (1)\")"
   ]
  },
  {
   "cell_type": "markdown",
   "metadata": {},
   "source": [
    "# Check the number of missing data per column"
   ]
  },
  {
   "cell_type": "code",
   "execution_count": 116,
   "metadata": {},
   "outputs": [
    {
     "data": {
      "text/markdown": [
       "Frozen features <span style=\"color: #ff0000\">wbc, hemoglobin, platelet</span> are not in line with this test."
      ],
      "text/plain": [
       "<IPython.core.display.Markdown object>"
      ]
     },
     "metadata": {},
     "output_type": "display_data"
    }
   ],
   "source": [
    "df_valid_count = df_x.count()\n",
    "\n",
    "keep_list_ = (df_valid_count > 0.88 * df_valid_count.max()).tolist()\n",
    "col_ = [col for index, col in enumerate(list(df_x.columns)) if keep_list_[index]]\n",
    "warning_([col for col in df_x.columns if col not in col_])\n",
    "#print(\"{} columns kept ouf of {}\".format(len(col_), len(df_x.columns)))\n",
    "#df_x = df_x.loc[:,col_]"
   ]
  },
  {
   "cell_type": "markdown",
   "metadata": {},
   "source": [
    "# Remove unique values features"
   ]
  },
  {
   "cell_type": "code",
   "execution_count": 130,
   "metadata": {},
   "outputs": [
    {
     "name": "stdout",
     "output_type": "stream",
     "text": [
      "13 columns kept ouf of 13\n"
     ]
    },
    {
     "data": {
      "text/markdown": [
       "<span style=\"color: green\">All of the covariates passed the test</span>"
      ],
      "text/plain": [
       "<IPython.core.display.Markdown object>"
      ]
     },
     "metadata": {},
     "output_type": "display_data"
    }
   ],
   "source": [
    "(df_x.loc[:,df_x.dtypes==\"float64\"].nunique()/len(df_x)).sort_values()\n",
    "\n",
    "rate_lower_bound =  0\n",
    "\n",
    "stat_ = ((df_x.nunique()/len(df_x))>rate_lower_bound)\n",
    "select_ = [col for col in df_x.columns if stat_[col]]\n",
    "\n",
    "select__ = [col for col in df_x.columns if col in select_]\n",
    "print(\"{} columns kept ouf of {}\".format(len(select__),len(df_x.columns)))\n",
    "\n",
    "warning_([col for col in select__ if col not in select_])\n",
    "#df_x = df_x[select__]"
   ]
  },
  {
   "cell_type": "markdown",
   "metadata": {},
   "source": [
    "# Remove features with a major part of same values (not usable for ML models)"
   ]
  },
  {
   "cell_type": "code",
   "execution_count": 142,
   "metadata": {},
   "outputs": [
    {
     "name": "stdout",
     "output_type": "stream",
     "text": [
      "{'temperature': 0.042100283822138124, 'heart_rate': 0.02371942154345182, 'wbc': 0.00750101365049331, 'creatinine': 0.07703743749155291, 'bicarbonate': 0.0794026219759427, 'hemoglobin': 0.01608325449385052, 'sodium': 0.07919989187728071, 'potassium': 0.054737126638734965, 'glucose': 0.010068928233545073, 'platelet': 0.0050006757669955396}\n"
     ]
    },
    {
     "data": {
      "text/markdown": [
       "<span style=\"color: green\">All of the covariates passed the test</span>"
      ],
      "text/plain": [
       "<IPython.core.display.Markdown object>"
      ]
     },
     "metadata": {},
     "output_type": "display_data"
    },
    {
     "name": "stdout",
     "output_type": "stream",
     "text": [
      "10 features kept out of 10\n"
     ]
    }
   ],
   "source": [
    "print(\n",
    "    {\n",
    "        col: df_x.loc[:, df_x.dtypes == \"float64\"][col].value_counts().max() / len(df_x)\n",
    "        for col in df_x.loc[:, df_x.dtypes == \"float64\"].columns\n",
    "    }\n",
    ")\n",
    "\n",
    "rate_lower_bound = 0.4\n",
    "\n",
    "filtered_columns_ = [\n",
    "    col\n",
    "    for col in df_x.loc[:, df_x.dtypes == \"float64\"].columns\n",
    "    if df_x.loc[:, df_x.dtypes == \"float64\"][col].value_counts().max() / len(df_x)\n",
    "    < rate_lower_bound\n",
    "]\n",
    "warning_([col for col in df_x.loc[:, df_x.dtypes == \"float64\"] if col not in filtered_columns_])\n",
    "\n",
    "# filter_history['repeated_values'] = set([col for col in df_x if col not in filtered_columns__])\n",
    "print(\"{} features kept out of {}\".format(len(filtered_columns_), len(df_x.loc[:, df_x.dtypes == \"float64\"].columns)))"
   ]
  },
  {
   "cell_type": "markdown",
   "metadata": {},
   "source": [
    "# Lets check the correlation between selected features and  remove unrequired features with a greedy, DP algorithm on features correlated with more than 0.9"
   ]
  },
  {
   "cell_type": "code",
   "execution_count": 143,
   "metadata": {},
   "outputs": [
    {
     "name": "stdout",
     "output_type": "stream",
     "text": [
      "Top 10 correlated features \t\t     Pearson\n",
      "creatinine   potassium      0.310464\n",
      "temperature  heart_rate     0.248070\n",
      "creatinine   bicarbonate    0.218335\n",
      "wbc          platelet       0.182803\n",
      "age          heart_rate     0.165583\n",
      "sodium       potassium      0.163140\n",
      "bicarbonate  glucose        0.158210\n",
      "creatinine   hemoglobin     0.142364\n",
      "bicarbonate  potassium      0.134199\n",
      "             sodium         0.118498\n",
      "dtype: float64\n"
     ]
    }
   ],
   "source": [
    "import numpy as np\n",
    "\n",
    "take=10\n",
    "\n",
    "corr_matrix = df_x.corr().abs()\n",
    "\n",
    "#the matrix is symmetric so we need to extract upper triangle matrix without diagonal (k = 1)\n",
    "\n",
    "sol = (corr_matrix.where(np.triu(np.ones(corr_matrix.shape), k=1).astype(np.bool))\n",
    "                  .stack()\n",
    "                  .sort_values(ascending=False))\n",
    "print(f\"Top {take} correlated features \\t\\t     Pearson\")\n",
    "print(sol[:take])"
   ]
  },
  {
   "cell_type": "code",
   "execution_count": 145,
   "metadata": {},
   "outputs": [
    {
     "name": "stdout",
     "output_type": "stream",
     "text": [
      "Kept 13 out of 13 features from the first correlation selection\n"
     ]
    },
    {
     "data": {
      "text/markdown": [
       "<span style=\"color: green\">All of the covariates passed the test</span>"
      ],
      "text/plain": [
       "<IPython.core.display.Markdown object>"
      ]
     },
     "metadata": {},
     "output_type": "display_data"
    }
   ],
   "source": [
    "df_corr = (corr_matrix.where(np.triu(np.ones(corr_matrix.shape), k=1).astype(np.bool))>0.9).stack().sort_values(ascending=False).reset_index()\n",
    "dict_ = df_corr[df_corr[df_corr.columns[-1]]==True][['level_0','level_1']].to_dict('index')\n",
    "set_ = set(map(lambda x: frozenset(x.values()), dict_.values())) \n",
    "\n",
    "from data.analysisTool import remove_features\n",
    "\n",
    "\n",
    "initial_features = set(df_x.columns)\n",
    "features_to_remove = remove_features(set_)\n",
    "print(\"Kept {} out of {} features from the first correlation selection\".format(len(initial_features)-len(features_to_remove),len(initial_features)))\n",
    "\n",
    "new_features = initial_features.difference(*list(features_to_remove))\n",
    "new_features_ = [col for col in df_x.columns if col in new_features or col in frozens]\n",
    "\n",
    "warning_([col for col in new_features_ if col not in new_features])\n",
    "df_x = df_x.loc[:,new_features_]"
   ]
  },
  {
   "cell_type": "markdown",
   "metadata": {},
   "source": [
    "# Correlation Based feature selection"
   ]
  },
  {
   "cell_type": "code",
   "execution_count": 146,
   "metadata": {},
   "outputs": [
    {
     "name": "stderr",
     "output_type": "stream",
     "text": [
      "Added heart_rate: : 13features [08:57, 41.37s/features]                \n"
     ]
    }
   ],
   "source": [
    "from data.analysisTool import cfs\n",
    "import pprint\n",
    "\n",
    "cfs_ = {output: list(zip(*cfs(df_x ,df_y[output], min_features=len(df_x.columns)-1))) for output in df_y.columns}"
   ]
  },
  {
   "cell_type": "code",
   "execution_count": 172,
   "metadata": {},
   "outputs": [
    {
     "data": {
      "text/markdown": [
       "<span style=\"color: green\">Recommended subset is </span> ['bicarbonate', 'wbc', 'lactate_cat', 'creatinine', 'sodium', 'temperature', 'potassium', 'glucose']"
      ],
      "text/plain": [
       "<IPython.core.display.Markdown object>"
      ]
     },
     "metadata": {},
     "output_type": "display_data"
    },
    {
     "data": {
      "image/png": "[encoded data removed]",
      "text/plain": [
       "<Figure size 432x288 with 1 Axes>"
      ]
     },
     "metadata": {
      "needs_background": "light"
     },
     "output_type": "display_data"
    }
   ],
   "source": [
    "import matplotlib.pyplot as plt\n",
    "\n",
    "res = next(iter(cfs_.values()))\n",
    "x, labels = [x[1] for x in res], [x[0] for x in res]\n",
    "plt.plot(x)\n",
    "plt.xticks(range(0, len(res)), labels, rotation=45)\n",
    "plt.ylabel(\"score\")\n",
    "plt.axvline(x=x.index(max(x)), color=\"red\")\n",
    "plt.title(\"CFS heuristic score by sub covariate set\")\n",
    "\n",
    "display(Markdown('<span style=\"color: green\">Recommended subset is </span> {}'.format(labels[:x.index(max(x))+1])))\n",
    "\n"
   ]
  },
  {
   "cell_type": "markdown",
   "metadata": {},
   "source": [
    "# Bin plots"
   ]
  },
  {
   "cell_type": "code",
   "execution_count": 173,
   "metadata": {},
   "outputs": [
    {
     "data": {
      "image/png": "[encoded data removed]",
      "text/plain": [
       "<Figure size 1728x3600 with 13 Axes>"
      ]
     },
     "metadata": {
      "needs_background": "light"
     },
     "output_type": "display_data"
    }
   ],
   "source": [
    "plt.figure(figsize=(24,50))\n",
    "plt.title('VGFBGF')\n",
    "import seaborn as sns\n",
    "sns.set()\n",
    "sns.set_theme(style=\"white\")\n",
    "try:\n",
    "    for i, col in enumerate(df_x.columns.to_list()):\n",
    "        plt.subplot(10, 4, i + 1)\n",
    "        plt.hist(df_x[col], label=col, bins=50)\n",
    "        plt.legend()\n",
    "        plt.title(col)\n",
    "        plt.tight_layout()\n",
    "except Exception as e:\n",
    "    print(col,e)\n",
    "plt.show()"
   ]
  }
 ],
 "metadata": {
  "interpreter": {
   "hash": "56faac8612633bcfddb99da3ad5a50bcd343e3e14a61b03833611d8357de7104"
  },
  "kernelspec": {
   "display_name": "Python 3.9.10",
   "language": "python",
   "name": "python3"
  },
  "language_info": {
   "codemirror_mode": {
    "name": "ipython",
    "version": 3
   },
   "file_extension": ".py",
   "mimetype": "text/x-python",
   "name": "python",
   "nbconvert_exporter": "python",
   "pygments_lexer": "ipython3",
   "version": "3.9.10"
  },
  "orig_nbformat": 4
 },
 "nbformat": 4,
 "nbformat_minor": 2
}
